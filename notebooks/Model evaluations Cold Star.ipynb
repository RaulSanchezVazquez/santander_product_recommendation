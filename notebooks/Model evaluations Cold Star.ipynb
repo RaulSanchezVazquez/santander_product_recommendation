{
 "cells": [
  {
   "cell_type": "code",
   "execution_count": 1,
   "id": "445b03b0",
   "metadata": {
    "ExecuteTime": {
     "end_time": "2022-02-16T19:39:22.377862Z",
     "start_time": "2022-02-16T19:39:21.878275Z"
    }
   },
   "outputs": [],
   "source": [
    "%matplotlib inline"
   ]
  },
  {
   "cell_type": "code",
   "execution_count": 2,
   "id": "5c5f68ab",
   "metadata": {
    "ExecuteTime": {
     "end_time": "2022-02-16T19:39:22.385154Z",
     "start_time": "2022-02-16T19:39:22.380562Z"
    }
   },
   "outputs": [
    {
     "name": "stdout",
     "output_type": "stream",
     "text": [
      "/Users/raul.sanchez/k/santander_product_recommendation\n"
     ]
    }
   ],
   "source": [
    "import os \n",
    "import sys\n",
    "\n",
    "prj_dir = os.path.abspath(os.getcwd() + '/..')\n",
    "print(prj_dir)\n",
    "sys.path.append(prj_dir)"
   ]
  },
  {
   "cell_type": "code",
   "execution_count": 3,
   "id": "e7325b8b",
   "metadata": {
    "ExecuteTime": {
     "end_time": "2022-02-16T19:39:23.718036Z",
     "start_time": "2022-02-16T19:39:22.391983Z"
    }
   },
   "outputs": [],
   "source": [
    "import numpy as np\n",
    "import pandas as pd\n",
    "import matplotlib.pyplot as plt\n",
    "from sklearn.metrics import ndcg_score"
   ]
  },
  {
   "cell_type": "code",
   "execution_count": 4,
   "id": "249c8b65",
   "metadata": {
    "ExecuteTime": {
     "end_time": "2022-02-16T19:39:23.728111Z",
     "start_time": "2022-02-16T19:39:23.719684Z"
    }
   },
   "outputs": [],
   "source": [
    "from src import config\n",
    "from src.features import folds\n",
    "from src.features.utils.features import PRODUCT_FEATURES, TOP_N"
   ]
  },
  {
   "cell_type": "code",
   "execution_count": null,
   "id": "c9731f48",
   "metadata": {
    "ExecuteTime": {
     "start_time": "2022-02-16T19:39:20.752Z"
    },
    "scrolled": false
   },
   "outputs": [
    {
     "name": "stdout",
     "output_type": "stream",
     "text": [
      "1\n"
     ]
    }
   ],
   "source": [
    "challengers = [\n",
    "    'item_most_popular', \n",
    "    'user_most_popular', \n",
    "    'recsysnet', \n",
    "    'net_multilabel',\n",
    "    'fact_matrix']\n",
    "\n",
    "ndcg_all, ndcg, coldstart_ratio, coldstart_nb_users = [], [], {}, {}\n",
    "for fold_id in folds.list():\n",
    "    print(fold_id)\n",
    "    train, test, _ = folds.get(fold_id)\n",
    "    cold_star_users = set(test['ncodpers'].unique()) - set(train['ncodpers'].unique())\n",
    "    is_cold_start = test.index.isin(cold_star_users)\n",
    "    \n",
    "    coldstart_ratio[test['fecha_dato'].min()] = is_cold_start.mean()\n",
    "    coldstart_nb_users[test['fecha_dato'].min()] = is_cold_start.sum()\n",
    "    \n",
    "    fold_ndcg_all, fold_ndcg = {}, {}\n",
    "    for challenger_name in challengers:\n",
    "        print(challenger_name)\n",
    "        scores = os.path.join(\n",
    "            config.PRJ_DIR, \n",
    "            'data/processed/ranks/{0}/{1}.csv.gz'.format(\n",
    "                challenger_name, \n",
    "                '{:02d}'.format(fold_id)))\n",
    "        scores = pd.read_csv(scores)\n",
    "\n",
    "        fold_ndcg_all[challenger_name] = ndcg_score(\n",
    "            test.loc[is_cold_start][PRODUCT_FEATURES],\n",
    "            scores.loc[is_cold_start][PRODUCT_FEATURES],\n",
    "            k=TOP_N)\n",
    "\n",
    "        fold_ndcg[challenger_name] = ndcg_score(\n",
    "            test.loc[is_cold_start][PRODUCT_FEATURES].drop('ind_cco_fin_ult1', axis=1),\n",
    "            scores.loc[is_cold_start][PRODUCT_FEATURES].drop('ind_cco_fin_ult1', axis=1),\n",
    "            k=TOP_N)\n",
    "    \n",
    "    ndcg_all.append(fold_ndcg_all)\n",
    "    ndcg.append(fold_ndcg)\n",
    "\n",
    "coldstart_nb_users = pd.Series(coldstart_nb_users)\n",
    "coldstart_ratio = pd.Series(coldstart_ratio)\n",
    "ndcg_all_df = pd.DataFrame(ndcg_all, index=coldstart_ratio.index)\n",
    "ndcg_df = pd.DataFrame(ndcg, index=coldstart_ratio.index)"
   ]
  },
  {
   "cell_type": "code",
   "execution_count": null,
   "id": "a71991bd",
   "metadata": {
    "ExecuteTime": {
     "start_time": "2022-02-16T19:39:20.754Z"
    }
   },
   "outputs": [],
   "source": [
    "ax = coldstart_nb_users.plot(\n",
    "    marker='o', \n",
    "    grid=True,\n",
    "    title='Cold Star')\n",
    "\n",
    "ax.set_ylabel('nb-users')"
   ]
  },
  {
   "cell_type": "code",
   "execution_count": null,
   "id": "7ca50024",
   "metadata": {
    "ExecuteTime": {
     "start_time": "2022-02-16T19:39:20.755Z"
    }
   },
   "outputs": [],
   "source": [
    "fig, ax = plt.subplots(1, 1, figsize=(10, 5))\n",
    "\n",
    "ndcg_all_df.plot(\n",
    "    marker='o',\n",
    "    grid=True,\n",
    "    ax=ax)\n",
    "\n",
    "ax.set_title('Normalized Discounted Cumulative Gain\\n(Cold star NDCG@10)')\n",
    "ax.set_ylabel('NDCG')\n",
    "ax.set_xlabel('Fold-id')"
   ]
  },
  {
   "cell_type": "code",
   "execution_count": null,
   "id": "eac9f809",
   "metadata": {
    "ExecuteTime": {
     "start_time": "2022-02-16T19:39:20.757Z"
    }
   },
   "outputs": [],
   "source": [
    "fig, ax = plt.subplots(1, 1, figsize=(10, 5))\n",
    "\n",
    "ndcg_df.plot(\n",
    "    marker='o',\n",
    "    grid=True,\n",
    "    ax=ax)\n",
    "\n",
    "ax.set_title('Normalized Discounted Cumulative Gain\\n(Cold star NDCG@10 Most Pop. Removed)')\n",
    "ax.set_ylabel('NDCG')\n",
    "ax.set_xlabel('Fold-id')"
   ]
  },
  {
   "cell_type": "code",
   "execution_count": null,
   "id": "466fab28",
   "metadata": {},
   "outputs": [],
   "source": []
  }
 ],
 "metadata": {
  "kernelspec": {
   "display_name": "Python 3",
   "language": "python",
   "name": "python3"
  },
  "language_info": {
   "codemirror_mode": {
    "name": "ipython",
    "version": 3
   },
   "file_extension": ".py",
   "mimetype": "text/x-python",
   "name": "python",
   "nbconvert_exporter": "python",
   "pygments_lexer": "ipython3",
   "version": "3.7.3"
  }
 },
 "nbformat": 4,
 "nbformat_minor": 5
}
